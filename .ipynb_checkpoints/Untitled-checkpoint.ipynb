{
 "cells": [
  {
   "cell_type": "code",
   "execution_count": null,
   "id": "f1bb1cd2-5bd8-4d90-b517-0c47cde50aad",
   "metadata": {},
   "outputs": [],
   "source": []
  }
 ],
 "metadata": {
  "kernelspec": {
   "display_name": "",
   "name": ""
  },
  "language_info": {
   "name": ""
  }
 },
 "nbformat": 4,
 "nbformat_minor": 5
}
