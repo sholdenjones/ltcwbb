{
 "cells": [
  {
   "cell_type": "markdown",
   "id": "ef65edf6-8801-4517-ae6a-41324d78795d",
   "metadata": {},
   "source": [
    "# 2. Python\n",
    "## Introduction to Python \n",
    "\n",
    "Pandas - manipulate tabular data\n",
    "BeautifulSoup - scrape data from websites\n",
    "standard library - built in to Python\n",
    "\n",
    "Start with standard library here"
   ]
  },
  {
   "cell_type": "code",
   "execution_count": 1,
   "id": "33c3e171-6963-4432-8ec1-a9074623adad",
   "metadata": {},
   "outputs": [
    {
     "data": {
      "text/plain": [
       "2"
      ]
     },
     "execution_count": 1,
     "metadata": {},
     "output_type": "execute_result"
    }
   ],
   "source": [
    "1 + 1"
   ]
  },
  {
   "cell_type": "code",
   "execution_count": 2,
   "id": "bc9336d8-4b18-4d06-b437-8d2c786fe028",
   "metadata": {},
   "outputs": [],
   "source": [
    "runs_scored = 4"
   ]
  },
  {
   "cell_type": "code",
   "execution_count": 6,
   "id": "b11708fe-c996-4429-94c1-951b34e1102b",
   "metadata": {},
   "outputs": [
    {
     "data": {
      "text/plain": [
       "4"
      ]
     },
     "execution_count": 6,
     "metadata": {},
     "output_type": "execute_result"
    }
   ],
   "source": [
    "runs_scored"
   ]
  },
  {
   "cell_type": "code",
   "execution_count": 7,
   "id": "80db69f5-7170-48fe-b14b-e389ad49c1f3",
   "metadata": {},
   "outputs": [
    {
     "data": {
      "text/plain": [
       "12"
      ]
     },
     "execution_count": 7,
     "metadata": {},
     "output_type": "execute_result"
    }
   ],
   "source": [
    "3*runs_scored"
   ]
  },
  {
   "cell_type": "code",
   "execution_count": null,
   "id": "92cbfffa-5704-4930-ae72-964040e2d2a4",
   "metadata": {},
   "outputs": [],
   "source": []
  }
 ],
 "metadata": {
  "kernelspec": {
   "display_name": "Python 3 (ipykernel)",
   "language": "python",
   "name": "python3"
  },
  "language_info": {
   "codemirror_mode": {
    "name": "ipython",
    "version": 3
   },
   "file_extension": ".py",
   "mimetype": "text/x-python",
   "name": "python",
   "nbconvert_exporter": "python",
   "pygments_lexer": "ipython3",
   "version": "3.11.8"
  }
 },
 "nbformat": 4,
 "nbformat_minor": 5
}
