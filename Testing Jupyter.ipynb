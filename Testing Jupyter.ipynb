{
 "cells": [
  {
   "cell_type": "markdown",
   "id": "d9640a76-5f28-4f74-92b6-143e2dcde2dd",
   "metadata": {
    "scrolled": true
   },
   "source": [
    "# Hello!\n",
    "\n",
    "*Italics*"
   ]
  },
  {
   "cell_type": "code",
   "execution_count": null,
   "id": "09106601-584c-4a71-b810-799458aefe41",
   "metadata": {},
   "outputs": [],
   "source": [
    "name = 'John'"
   ]
  },
  {
   "cell_type": "code",
   "execution_count": null,
   "id": "87f42a57-9f2e-426c-ac33-7fac5b5bade6",
   "metadata": {},
   "outputs": [],
   "source": [
    "name"
   ]
  },
  {
   "cell_type": "code",
   "execution_count": null,
   "id": "136cc49b-ce46-4132-a0c4-22ab823c94a2",
   "metadata": {},
   "outputs": [],
   "source": [
    "name = 'Corey'"
   ]
  },
  {
   "cell_type": "code",
   "execution_count": null,
   "id": "c43dc7db-21c3-4e6e-892c-b80a1f4befe2",
   "metadata": {},
   "outputs": [],
   "source": [
    "name = 'Big Chungus'"
   ]
  },
  {
   "cell_type": "code",
   "execution_count": null,
   "id": "2178a7d5-708e-4db6-be29-a8a792fc1904",
   "metadata": {},
   "outputs": [],
   "source": [
    "name"
   ]
  },
  {
   "cell_type": "code",
   "execution_count": null,
   "id": "f1e633b8-c6e2-4419-a871-3640337493fc",
   "metadata": {},
   "outputs": [],
   "source": [
    "%lsmagic"
   ]
  },
  {
   "cell_type": "code",
   "execution_count": null,
   "id": "07279bcf-50cc-4470-a9ff-14a27877b3f2",
   "metadata": {},
   "outputs": [],
   "source": [
    "%pwd"
   ]
  },
  {
   "cell_type": "code",
   "execution_count": null,
   "id": "7772790b-4ec6-4935-a4a9-9f318f58b565",
   "metadata": {},
   "outputs": [],
   "source": [
    "%ls -la"
   ]
  },
  {
   "cell_type": "code",
   "execution_count": null,
   "id": "ea341d8f-dfa3-48d9-bf5b-04486dc80b35",
   "metadata": {},
   "outputs": [],
   "source": [
    "ls"
   ]
  },
  {
   "cell_type": "code",
   "execution_count": null,
   "id": "5003c9dd-8c22-4b8f-bf18-529790ddc852",
   "metadata": {},
   "outputs": [],
   "source": [
    "%matplotlib inline"
   ]
  },
  {
   "cell_type": "code",
   "execution_count": 1,
   "id": "07d174c1-ea82-4d7e-85de-e981b80a3465",
   "metadata": {},
   "outputs": [
    {
     "name": "stdout",
     "output_type": "stream",
     "text": [
      "22.4 µs ± 219 ns per loop (mean ± std. dev. of 7 runs, 10,000 loops each)\n"
     ]
    }
   ],
   "source": [
    "%%timeit\n",
    "square_evens = [n*n for n in range(1000)]"
   ]
  },
  {
   "cell_type": "code",
   "execution_count": 4,
   "id": "cee1f1b5-2f04-404d-9188-4a9724d685e7",
   "metadata": {},
   "outputs": [
    {
     "data": {
      "text/html": [
       "<div>\n",
       "<style scoped>\n",
       "    .dataframe tbody tr th:only-of-type {\n",
       "        vertical-align: middle;\n",
       "    }\n",
       "\n",
       "    .dataframe tbody tr th {\n",
       "        vertical-align: top;\n",
       "    }\n",
       "\n",
       "    .dataframe thead th {\n",
       "        text-align: right;\n",
       "    }\n",
       "</style>\n",
       "<table border=\"1\" class=\"dataframe\">\n",
       "  <thead>\n",
       "    <tr style=\"text-align: right;\">\n",
       "      <th></th>\n",
       "      <th>0</th>\n",
       "      <th>1</th>\n",
       "      <th>2</th>\n",
       "      <th>3</th>\n",
       "      <th>4</th>\n",
       "    </tr>\n",
       "  </thead>\n",
       "  <tbody>\n",
       "    <tr>\n",
       "      <th>0</th>\n",
       "      <td>1.113355</td>\n",
       "      <td>-0.108413</td>\n",
       "      <td>0.804579</td>\n",
       "      <td>-1.202991</td>\n",
       "      <td>-0.112963</td>\n",
       "    </tr>\n",
       "    <tr>\n",
       "      <th>1</th>\n",
       "      <td>0.698747</td>\n",
       "      <td>0.614631</td>\n",
       "      <td>-0.879937</td>\n",
       "      <td>-0.524092</td>\n",
       "      <td>-0.248454</td>\n",
       "    </tr>\n",
       "    <tr>\n",
       "      <th>2</th>\n",
       "      <td>-1.037467</td>\n",
       "      <td>-0.907080</td>\n",
       "      <td>-1.015268</td>\n",
       "      <td>-1.866947</td>\n",
       "      <td>0.007390</td>\n",
       "    </tr>\n",
       "    <tr>\n",
       "      <th>3</th>\n",
       "      <td>-1.942420</td>\n",
       "      <td>-0.223372</td>\n",
       "      <td>-0.461354</td>\n",
       "      <td>0.834231</td>\n",
       "      <td>0.096980</td>\n",
       "    </tr>\n",
       "    <tr>\n",
       "      <th>4</th>\n",
       "      <td>0.526926</td>\n",
       "      <td>0.318557</td>\n",
       "      <td>-0.189593</td>\n",
       "      <td>0.312230</td>\n",
       "      <td>-1.920155</td>\n",
       "    </tr>\n",
       "    <tr>\n",
       "      <th>5</th>\n",
       "      <td>-0.600034</td>\n",
       "      <td>0.893265</td>\n",
       "      <td>0.653192</td>\n",
       "      <td>0.446381</td>\n",
       "      <td>0.127507</td>\n",
       "    </tr>\n",
       "    <tr>\n",
       "      <th>6</th>\n",
       "      <td>0.681004</td>\n",
       "      <td>0.957159</td>\n",
       "      <td>-0.128117</td>\n",
       "      <td>-0.971134</td>\n",
       "      <td>-0.588339</td>\n",
       "    </tr>\n",
       "    <tr>\n",
       "      <th>7</th>\n",
       "      <td>1.191735</td>\n",
       "      <td>0.409515</td>\n",
       "      <td>1.807762</td>\n",
       "      <td>0.724349</td>\n",
       "      <td>-0.666066</td>\n",
       "    </tr>\n",
       "    <tr>\n",
       "      <th>8</th>\n",
       "      <td>0.349274</td>\n",
       "      <td>-0.407637</td>\n",
       "      <td>1.044750</td>\n",
       "      <td>1.142204</td>\n",
       "      <td>0.197478</td>\n",
       "    </tr>\n",
       "    <tr>\n",
       "      <th>9</th>\n",
       "      <td>0.648070</td>\n",
       "      <td>1.016895</td>\n",
       "      <td>-1.152241</td>\n",
       "      <td>0.481431</td>\n",
       "      <td>0.047928</td>\n",
       "    </tr>\n",
       "  </tbody>\n",
       "</table>\n",
       "</div>"
      ],
      "text/plain": [
       "          0         1         2         3         4\n",
       "0  1.113355 -0.108413  0.804579 -1.202991 -0.112963\n",
       "1  0.698747  0.614631 -0.879937 -0.524092 -0.248454\n",
       "2 -1.037467 -0.907080 -1.015268 -1.866947  0.007390\n",
       "3 -1.942420 -0.223372 -0.461354  0.834231  0.096980\n",
       "4  0.526926  0.318557 -0.189593  0.312230 -1.920155\n",
       "5 -0.600034  0.893265  0.653192  0.446381  0.127507\n",
       "6  0.681004  0.957159 -0.128117 -0.971134 -0.588339\n",
       "7  1.191735  0.409515  1.807762  0.724349 -0.666066\n",
       "8  0.349274 -0.407637  1.044750  1.142204  0.197478\n",
       "9  0.648070  1.016895 -1.152241  0.481431  0.047928"
      ]
     },
     "execution_count": 4,
     "metadata": {},
     "output_type": "execute_result"
    }
   ],
   "source": [
    "import pandas as pd\n",
    "import numpy as np\n",
    "df = pd.DataFrame(np.random.randn(10,5))\n",
    "df"
   ]
  },
  {
   "cell_type": "code",
   "execution_count": null,
   "id": "140e8401-981e-4d28-80d2-16945ebc8916",
   "metadata": {},
   "outputs": [],
   "source": []
  }
 ],
 "metadata": {
  "kernelspec": {
   "display_name": "Python 3 (ipykernel)",
   "language": "python",
   "name": "python3"
  },
  "language_info": {
   "codemirror_mode": {
    "name": "ipython",
    "version": 3
   },
   "file_extension": ".py",
   "mimetype": "text/x-python",
   "name": "python",
   "nbconvert_exporter": "python",
   "pygments_lexer": "ipython3",
   "version": "3.11.8"
  }
 },
 "nbformat": 4,
 "nbformat_minor": 5
}
